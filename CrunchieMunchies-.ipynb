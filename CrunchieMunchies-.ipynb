{
  "nbformat": 4,
  "nbformat_minor": 0,
  "metadata": {
    "colab": {
      "provenance": [],
      "authorship_tag": "ABX9TyMdRdruNXhZvHQnBxN3LcFy",
      "include_colab_link": true
    },
    "kernelspec": {
      "name": "python3",
      "display_name": "Python 3"
    },
    "language_info": {
      "name": "python"
    }
  },
  "cells": [
    {
      "cell_type": "markdown",
      "metadata": {
        "id": "view-in-github",
        "colab_type": "text"
      },
      "source": [
        "<a href=\"https://colab.research.google.com/github/alvaro1h2/-CrunchieMunchies-/blob/main/Untitled19.ipynb\" target=\"_parent\"><img src=\"https://colab.research.google.com/assets/colab-badge.svg\" alt=\"Open In Colab\"/></a>"
      ]
    },
    {
      "cell_type": "code",
      "source": [
        "!git clone https://github.com/alvaro1h2/-CrunchieMunchies-.git\n",
        "\n",
        "import numpy as np\n",
        "\n",
        "# Cargamos los datos del archivo cereal.csv en la variable calorie_stats\n",
        "calorie_stats = np.genfromtxt('cereal.csv', delimiter=',')\n",
        "\n",
        "# Calculamos el promedio de calorías de la competencia\n",
        "average_calories = np.mean(calorie_stats)\n",
        "print(f\"El promedio de calorías de la competencia es: {average_calories} calorías por porción.\")\n",
        "\n",
        "# Organizamos los datos y calculamos nuevamente el promedio\n",
        "calorie_stats.sort()\n",
        "average_calories = np.mean(calorie_stats)\n",
        "print(f\"El nuevo promedio de calorías de la competencia es: {average_calories} calorías por porción.\")\n",
        "\n",
        "# Calculamos la mediana de los datos\n",
        "median_calories = np.median(calorie_stats)\n",
        "print(f\"La mediana de las calorías es: {median_calories} calorías por porción.\")\n",
        "\n",
        "# Calculamos diferentes percentiles hasta encontrar el primero mayor a 60\n",
        "for i in range(0, 101):\n",
        "    percentile_value = np.percentile(calorie_stats, i)\n",
        "    if percentile_value > 60:\n",
        "        print(f\"El primer percentil mayor a 60 es el {i}-ésimo percentil, con un valor de {percentile_value} calorías.\")\n",
        "        nth_percentile = percentile_value\n",
        "        break\n",
        "\n",
        "# Calculamos el porcentaje de cereales que tienen más de 60 calorías por porción\n",
        "more_calories = np.mean(calorie_stats > 60) * 100\n",
        "print(f\"El {more_calories:.2f}% de los cereales tiene más de 60 calorías por porción.\")\n",
        "\n",
        "# Calculamos la desviación estándar\n",
        "calorie_std = np.std(calorie_stats)\n",
        "print(f\"La desviación estándar de las calorías es: {calorie_std}. Esto indica la dispersión de los datos en torno a la media.\")\n"
      ],
      "metadata": {
        "colab": {
          "base_uri": "https://localhost:8080/"
        },
        "id": "tibc3ema-OrO",
        "outputId": "83a0e42d-fcb8-4461-89a5-10abc42fb5b8"
      },
      "execution_count": 22,
      "outputs": [
        {
          "output_type": "stream",
          "name": "stdout",
          "text": [
            "fatal: destination path '-CrunchieMunchies-' already exists and is not an empty directory.\n",
            "El promedio de calorías de la competencia es: 106.88311688311688 calorías por porción.\n",
            "El nuevo promedio de calorías de la competencia es: 106.88311688311688 calorías por porción.\n",
            "La mediana de las calorías es: 110.0 calorías por porción.\n",
            "El primer percentil mayor a 60 es el 4-ésimo percentil, con un valor de 70.0 calorías.\n",
            "El 96.10% de los cereales tiene más de 60 calorías por porción.\n",
            "La desviación estándar de las calorías es: 19.35718533390827. Esto indica la dispersión de los datos en torno a la media.\n"
          ]
        }
      ]
    },
    {
      "cell_type": "markdown",
      "source": [
        "hecho por alvaro jose hernandez marmol (Alvaro.hernandezm@upb.edu.co) id:000547957"
      ],
      "metadata": {
        "id": "x3DZwCj0B3qH"
      }
    }
  ]
}
